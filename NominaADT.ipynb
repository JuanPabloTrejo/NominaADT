{
  "nbformat": 4,
  "nbformat_minor": 0,
  "metadata": {
    "colab": {
      "name": "NominaADT.ipynb",
      "provenance": [],
      "collapsed_sections": []
    },
    "kernelspec": {
      "name": "python3",
      "display_name": "Python 3"
    },
    "language_info": {
      "name": "python"
    }
  },
  "cells": [
    {
      "cell_type": "code",
      "metadata": {
        "id": "fFFepjoM4N0V"
      },
      "source": [
        "class Trabajador:\n",
        "    def __init__( self , nt, nom, pat, mat, he, sb, ai ):\n",
        "        self.__numero_trabajador = nt \n",
        "        self.__nombre_trabajador = nom\n",
        "        self.__apellido_paterno = pat\n",
        "        self.__apellido_materno = mat\n",
        "        self.__horas_extras = he\n",
        "        self.__horas_base = hb\n",
        "        self.__anio_ingreso = ai \n",
        "      # asi para todos los atributos \n",
        "\n",
        "      # aqui van todos los métodos de acceso (get y set)\n",
        "    def set_numero_trabajador( self , nt ):\n",
        "        self.__numero_trabajador = nt \n",
        "    def get_numero_trabajador(self, nt):\n",
        "        self.__numero_trabajador = nt\n",
        "\n",
        "    def set_nombre_trabajador( self , nom ):\n",
        "        self.__nombre_trabajador = nom \n",
        "    def get_nombre_trabajador(self, nom):\n",
        "        self.__nombre_trabajador = nom\n",
        "\n",
        "    def set_apellido_paterno( self , pat ):\n",
        "        self.__apellido_paterno = pat\n",
        "    def get_apellido_paterno(self, pat):\n",
        "        self.__apellido_paterno = pat\n",
        "\n",
        "    def set_apellido_materno( self , mat ):\n",
        "        self.__apellido_materno = mat \n",
        "    def get_apellido_materno(self, mat):\n",
        "        self.__apellido_materno = mat\n",
        "\n",
        "    def set_horas_extras( self , he ):\n",
        "        self.__horas_extras = he \n",
        "    def get_horas_extras(self, he):\n",
        "        self.__horas_extras = he \n",
        "\n",
        "    def set_horas_base( self , hb ):\n",
        "        self.__horas_base = hb \n",
        "    def get_horas_base(self, hb):\n",
        "        self.__horas_base = hb \n",
        "\n",
        "    def set_anio_ingreso( self , ai ):\n",
        "        self.__anio_ingreso = ai \n",
        "    def get_anio_ingreso(self, ai):\n",
        "        self.__anio_ingreso = ai                             \n",
        "        \n",
        "        # metodos de uso general --> metodos que hacen calculos de la logica de negocio\n",
        "    def sueldo( self, su, hr):\n",
        "        self.__horas_extras = hr\n",
        "        for item in list:\n",
        "          hr = 276.50\n"
      ],
      "execution_count": 3,
      "outputs": []
    },
    {
      "cell_type": "code",
      "metadata": {
        "id": "VS66BBFC4Smi"
      },
      "source": [
        "class NominaADT:\n",
        "  def __init__( self , ruta_archivo ):\n",
        "      # abir el archivo y determinar el numero de empleados (14)---> num_emp\n",
        "      self.__data = Array(num_emp)\n",
        "  def calcular_sueldos(self):\n",
        "      #iterar sobre el array y hacer el calculo de sueldos\n",
        "  def buscar_mas_antiguo(self):\n",
        "      #iterar y buscara en el array el de mayor antiguedad en el puesto\n",
        "  def buscar_menor_antiguedad(self):\n",
        "      #iterar y buscara en el array el de menor antiguedad en el puesto"
      ],
      "execution_count": null,
      "outputs": []
    }
  ]
}