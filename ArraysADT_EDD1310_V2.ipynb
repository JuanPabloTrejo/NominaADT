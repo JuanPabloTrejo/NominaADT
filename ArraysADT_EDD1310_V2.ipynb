{
  "nbformat": 4,
  "nbformat_minor": 0,
  "metadata": {
    "colab": {
      "name": "ArraysADT_EDD1310_V2.ipynb",
      "provenance": [],
      "collapsed_sections": [],
      "authorship_tag": "ABX9TyN7azBY63WM7wKGd7SMd/MK",
      "include_colab_link": true
    },
    "kernelspec": {
      "name": "python3",
      "display_name": "Python 3"
    },
    "language_info": {
      "name": "python"
    }
  },
  "cells": [
    {
      "cell_type": "markdown",
      "metadata": {
        "id": "view-in-github",
        "colab_type": "text"
      },
      "source": [
        "<a href=\"https://colab.research.google.com/github/JPablo180/NominaADT/blob/main/ArraysADT_EDD1310_V2.ipynb\" target=\"_parent\"><img src=\"https://colab.research.google.com/assets/colab-badge.svg\" alt=\"Open In Colab\"/></a>"
      ]
    },
    {
      "cell_type": "markdown",
      "metadata": {
        "id": "IJKji7a2fjGf"
      },
      "source": [
        ""
      ]
    },
    {
      "cell_type": "code",
      "metadata": {
        "colab": {
          "base_uri": "https://localhost:8080/"
        },
        "id": "2oyLBSe4fhBm",
        "outputId": "8f093676-e23d-4d92-ac16-cea76c66624e"
      },
      "source": [
        "class Array:\n",
        "  def __init__ (self, tam):\n",
        "    self.__tamano = tam\n",
        "    self.__data = [ 0 for x in range(self.__tamano) ]\n",
        "  def to_string( self ):\n",
        "    info = \"\"\n",
        "    for dato in self.__data:\n",
        "      info = info + str(dato) + \" | \"\n",
        "    return info\n",
        "\n",
        "  def get_item(self , index):\n",
        "    return self.__data[index]\n",
        "\n",
        "\n",
        "  def get_lenght(self ):\n",
        "    return len( self.__data)\n",
        "\n",
        "  def set_item(self , dato , index ):\n",
        "    # Hace falta revisar los limites\n",
        "    if index >= 0 and index < self.get_lenght():\n",
        "      self.__data[index] = dato\n",
        "    else:\n",
        "      print(\"Error : Indice fuera de rango\")\n",
        "\n",
        "  def clear(self, dato):\n",
        "    self.__data = [ dato for x in range(self.__tamano) ]\n",
        "\n",
        "\n",
        "  \n",
        "\n",
        "ejemplo = Array(20)\n",
        "print( ejemplo.to_string())\n",
        "print(ejemplo.get_item(2))\n",
        "print(ejemplo.set_item(45 , 2))\n",
        "print(ejemplo.to_string())\n",
        "ejemplo.clear(4)\n",
        "print(ejemplo.to_string())\n",
        "print(ejemplo.get_lenght())"
      ],
      "execution_count": 15,
      "outputs": [
        {
          "output_type": "stream",
          "name": "stdout",
          "text": [
            "0 | 0 | 0 | 0 | 0 | 0 | 0 | 0 | 0 | 0 | 0 | 0 | 0 | 0 | 0 | 0 | 0 | 0 | 0 | 0 | \n",
            "0\n",
            "None\n",
            "0 | 0 | 45 | 0 | 0 | 0 | 0 | 0 | 0 | 0 | 0 | 0 | 0 | 0 | 0 | 0 | 0 | 0 | 0 | 0 | \n",
            "4 | 4 | 4 | 4 | 4 | 4 | 4 | 4 | 4 | 4 | 4 | 4 | 4 | 4 | 4 | 4 | 4 | 4 | 4 | 4 | \n",
            "20\n"
          ]
        }
      ]
    },
    {
      "cell_type": "code",
      "metadata": {
        "colab": {
          "base_uri": "https://localhost:8080/"
        },
        "id": "P5dkG9JCuuK3",
        "outputId": "01fa4473-f2b8-4316-c951-43ba20c9e310"
      },
      "source": [
        "sueldo_base = 100\n",
        "anio = 2019\n",
        "anti = 2\n",
        "prestacion = 100*(2*0.03)\n",
        "print(sueldo_base + prestacion)"
      ],
      "execution_count": 16,
      "outputs": [
        {
          "output_type": "stream",
          "name": "stdout",
          "text": [
            "106.0\n"
          ]
        }
      ]
    },
    {
      "cell_type": "code",
      "metadata": {
        "colab": {
          "base_uri": "https://localhost:8080/"
        },
        "id": "89rHMRFSgdow",
        "outputId": "ae49b227-2a2e-47c6-8c92-0e2f81063fdb"
      },
      "source": [
        "lista  = [ 3 * x for x in range(10)]\n",
        "print(lista)"
      ],
      "execution_count": 17,
      "outputs": [
        {
          "output_type": "stream",
          "name": "stdout",
          "text": [
            "[0, 3, 6, 9, 12, 15, 18, 21, 24, 27]\n"
          ]
        }
      ]
    },
    {
      "cell_type": "code",
      "metadata": {
        "colab": {
          "base_uri": "https://localhost:8080/"
        },
        "id": "EahEuQJCueJQ",
        "outputId": "014757e2-7e6b-42bc-d0ff-5048721f858b"
      },
      "source": [
        "!cat junio.dat"
      ],
      "execution_count": 18,
      "outputs": [
        {
          "output_type": "stream",
          "name": "stdout",
          "text": [
            "numero de trabajador, nombres, paterno, materno, horas extra, sueldo base, año de ingreso\r\n",
            "2345,CARLOS,PEREZ,CASTILLO,0,9850,2017\r\n",
            "5754,ANGEL,GOMEZ,GARRIDO,1,9850,2020\r\n",
            "5345,JESUS,MARTIN,SANTOS,2,9850,2016\r\n",
            "3267,DAVID,JIMENEZ,LOZANO,2,9850,2017\r\n",
            "8765,PEDRO,RUIZ,GUERRERO,2,9850,2017\r\n",
            "5454,DANIEL,HERNANDEZ,CANO,3,9850,2018\r\n",
            "3456,ALEJANDRO,DIAZ,PRIETO,2,9850,2018\r\n",
            "3445,MARIA,MORENO,MENDEZ,1,9850,2018\r\n",
            "9088,ALBERTO,MU�OZ,CRUZ,1,9850,2017\r\n",
            "8877,RAFAEL,ALVAREZ,FLORES,2,9850,2017\r\n",
            "6767,FERNANDO,ROMERO,HERRERA,4,9850,2019\r\n",
            "5654,PABLO,ALONSO,GALLEGO,1,9850,2019\r\n",
            "4323,JORGE,GUTIERREZ,MARQUEZ,2,9850,2020\r\n",
            "2232,RAMON,NAVARRO,LEON,1,9850,2016"
          ]
        }
      ]
    },
    {
      "cell_type": "code",
      "metadata": {
        "colab": {
          "base_uri": "https://localhost:8080/"
        },
        "id": "w1BMuvqWujbh",
        "outputId": "7dc41d28-8116-45c4-ea83-83a764eb9680"
      },
      "source": [
        "archivo = open('junio.dat' , 'rt' , encoding='latin-1' )\n",
        "print(archivo.readlines())"
      ],
      "execution_count": 19,
      "outputs": [
        {
          "output_type": "stream",
          "name": "stdout",
          "text": [
            "['numero de trabajador, nombres, paterno, materno, horas extra, sueldo base, aÃ±o de ingreso\\n', '2345,CARLOS,PEREZ,CASTILLO,0,9850,2017\\n', '5754,ANGEL,GOMEZ,GARRIDO,1,9850,2020\\n', '5345,JESUS,MARTIN,SANTOS,2,9850,2016\\n', '3267,DAVID,JIMENEZ,LOZANO,2,9850,2017\\n', '8765,PEDRO,RUIZ,GUERRERO,2,9850,2017\\n', '5454,DANIEL,HERNANDEZ,CANO,3,9850,2018\\n', '3456,ALEJANDRO,DIAZ,PRIETO,2,9850,2018\\n', '3445,MARIA,MORENO,MENDEZ,1,9850,2018\\n', '9088,ALBERTO,MU\\x84OZ,CRUZ,1,9850,2017\\n', '8877,RAFAEL,ALVAREZ,FLORES,2,9850,2017\\n', '6767,FERNANDO,ROMERO,HERRERA,4,9850,2019\\n', '5654,PABLO,ALONSO,GALLEGO,1,9850,2019\\n', '4323,JORGE,GUTIERREZ,MARQUEZ,2,9850,2020\\n', '2232,RAMON,NAVARRO,LEON,1,9850,2016']\n"
          ]
        }
      ]
    },
    {
      "cell_type": "code",
      "metadata": {
        "id": "-NQS0jQOupw9",
        "colab": {
          "base_uri": "https://localhost:8080/"
        },
        "outputId": "be3a7b94-f348-4280-a4f0-474cec877200"
      },
      "source": [
        "class Trabajador:\n",
        "    def __init__( self , nt, nom, pat, mat, he, sb, ai ):\n",
        "        self.__numero_trabajador = nt \n",
        "        self.__nombre_trabajador = nom\n",
        "        self.__apellido_paterno = pat\n",
        "        self.__apellido_materno = mat\n",
        "        self.__horas_extras = he\n",
        "        self.__sueldo_base = sb\n",
        "        self.__anio_ingreso = ai \n",
        "      # asi para todos los atributos \n",
        "\n",
        "      # aqui van todos los métodos de acceso (get y set)\n",
        "    def set_numero_trabajador( self , nt ):\n",
        "        self.__numero_trabajador = nt \n",
        "    def get_numero_trabajador(self):\n",
        "        return self.__numero_trabajador \n",
        "\n",
        "    def set_nombre_trabajador( self , nom ):\n",
        "        self.__nombre_trabajador = nom \n",
        "    def get_nombre_trabajador(self):\n",
        "        return self.__nombre_trabajador \n",
        "\n",
        "    def set_apellido_paterno( self , pat ):\n",
        "        self.__apellido_paterno = pat\n",
        "    def get_apellido_paterno(self):\n",
        "        return self.__apellido_paterno \n",
        "\n",
        "    def set_apellido_materno( self , mat ):\n",
        "        self.__apellido_materno = mat \n",
        "    def get_apellido_materno(self):\n",
        "        return self.__apellido_materno \n",
        "\n",
        "    def set_horas_extras( self , he ):\n",
        "        self.__horas_extras = he \n",
        "    def get_horas_extras(self):\n",
        "        return self.__horas_extras\n",
        "\n",
        "    def set_sueldo_base( self , hb ):\n",
        "        self.__horas_base = sb\n",
        "    def get_sueldo_base(self):\n",
        "        return self.__sueldo_base  \n",
        "\n",
        "    def set_anio_ingreso( self , ai ):\n",
        "        self.__anio_ingreso = ai \n",
        "    def get_anio_ingreso(self):\n",
        "        return self.__anio_ingreso                              \n",
        "        \n",
        "        # metodos de uso general --> metodos que hacen calculos de la logica de negocio\n",
        "    def calcular_sueldo_mensual(self):\n",
        "      anios = 2021 - self.get_anio_ingreso()\n",
        "      sueldo = self.get_sueldo_base()\n",
        "\n",
        "      # agregar horas extras\n",
        "      sueldo += self.get_horas_extras() * 276.5\n",
        "\n",
        "      # agregar prestacion de antiguedad \n",
        "      sueldo = sueldo + ( sueldo * anios * 0.03)\n",
        "      return sueldo\n",
        "\n",
        "\n",
        "    def calcular_antiguedad(self):\n",
        "      return 2021 - self.get_anio_ingreso()\n",
        "\n",
        "    def mas_antiguo(self):\n",
        "     pass\n",
        "    \n",
        "\n",
        "\n",
        "    def to_string(self):\n",
        "      return \"No. Trabajador: \"+ str (self.__numero_trabajador) + \" | Nombre: \" + self.__nombre_trabajador + \" \"+ self.__apellido_paterno + \" \" + self.__apellido_materno + \" | Sueldo: $ \" + str (self.calcular_sueldo_mensual()) + \" | Antiguedad: \" + str (self.calcular_antiguedad()) + \" años\"\n",
        "\n",
        "    \n",
        "emp = Trabajador(2345,'CARLOS','PEREZ','CASTILLO', 1,9850,2017)\n",
        "print(emp.to_string())          \n",
        "\n",
        "\n"
      ],
      "execution_count": 20,
      "outputs": [
        {
          "output_type": "stream",
          "name": "stdout",
          "text": [
            "No. Trabajador: 2345 | Nombre: CARLOS PEREZ CASTILLO | Sueldo: $ 11341.68 | Antiguedad: 4 años\n"
          ]
        }
      ]
    },
    {
      "cell_type": "code",
      "metadata": {
        "id": "eLkPMTb1usWR",
        "colab": {
          "base_uri": "https://localhost:8080/"
        },
        "outputId": "c816b2c7-61fa-465d-8fbd-66f4f4af6c10"
      },
      "source": [
        "class NominaADT:\n",
        "  def __init__( self , ruta_archivo ):\n",
        "      # abir el archivo y determinar el numero de empleados (14)---> num_emp\n",
        "      archivo = open(ruta_archivo , 'rt' , encoding='latin-1' )\n",
        "      empleados = archivo.readlines()\n",
        "      del empleados [0]\n",
        "      for index in range (len(empleados)):\n",
        "          empleados[index] = empleados[index].strip().split(',')\n",
        "      self.__data = Array( len(empleados) )\n",
        "      cont = 0\n",
        "\n",
        "      for emp in empleados:\n",
        "          tmp = Trabajador( int(emp[0]), emp[1], emp[2], emp[3], int(emp[4]), int(emp[5]), int(emp[6]) )\n",
        "          self.__data.set_item( tmp, cont )\n",
        "          cont += 1\n",
        "\n",
        "\n",
        "  def calcular_sueldos(self):\n",
        "    # iterar sobre el array y hacer el calculo de sueldos\n",
        "    for index in range(self.__data.get_lenght()):\n",
        "        print(self.__data.get_item(index).to_string() )\n",
        "\n",
        "\n",
        "  def buscar_mas_antiguo(self):\n",
        "    #iterar y buscara en el array el de mayor antiguedad de puesto \n",
        "    mayor_antiguedad = self.__data.get_lenght()\n",
        "    menor_antiguedad = self.__data.get_lenght()\n",
        "    for index in range (self.__data.get_lenght()):\n",
        "      if (menor_antiguedad > mayor_antiguedad):                                   #Lo intente pero no pude\n",
        "          mayor_antiguedad = menor_antiguedad\n",
        " \n",
        "   \n",
        "\n",
        "  def buscar_menor_antiguedad(self):\n",
        "    #iterar y buscar en el array el de menor antiguedad en el puesto\n",
        "    menor_antiguedad = self.__data.get_lenght()\n",
        "    mayor_antiguedad = self.__data.get_lenght()\n",
        "    for index in range (self.__data.get_lenght()):\n",
        "      if (mayor_antiguedad > menor_antiguedad):\n",
        "          menor_antiguedad = mayor_antiguedad\n",
        "\n",
        "\n",
        "\n",
        "\n",
        "ejemplo = NominaADT('junio.dat')\n",
        "ejemplo.calcular_sueldos()\n",
        "ejemplo.buscar_mas_antiguo()\n",
        "ejemplo.buscar_menor_antiguedad()\n"
      ],
      "execution_count": 23,
      "outputs": [
        {
          "output_type": "stream",
          "name": "stdout",
          "text": [
            "No. Trabajador: 2345 | Nombre: CARLOS PEREZ CASTILLO | Sueldo: $ 11032.0 | Antiguedad: 4 años\n",
            "No. Trabajador: 5754 | Nombre: ANGEL GOMEZ GARRIDO | Sueldo: $ 10430.295 | Antiguedad: 1 años\n",
            "No. Trabajador: 5345 | Nombre: JESUS MARTIN SANTOS | Sueldo: $ 11963.45 | Antiguedad: 5 años\n",
            "No. Trabajador: 3267 | Nombre: DAVID JIMENEZ LOZANO | Sueldo: $ 11651.36 | Antiguedad: 4 años\n",
            "No. Trabajador: 8765 | Nombre: PEDRO RUIZ GUERRERO | Sueldo: $ 11651.36 | Antiguedad: 4 años\n",
            "No. Trabajador: 5454 | Nombre: DANIEL HERNANDEZ CANO | Sueldo: $ 11640.655 | Antiguedad: 3 años\n",
            "No. Trabajador: 3456 | Nombre: ALEJANDRO DIAZ PRIETO | Sueldo: $ 11339.27 | Antiguedad: 3 años\n",
            "No. Trabajador: 3445 | Nombre: MARIA MORENO MENDEZ | Sueldo: $ 11037.885 | Antiguedad: 3 años\n",
            "No. Trabajador: 9088 | Nombre: ALBERTO MUOZ CRUZ | Sueldo: $ 11341.68 | Antiguedad: 4 años\n",
            "No. Trabajador: 8877 | Nombre: RAFAEL ALVAREZ FLORES | Sueldo: $ 11651.36 | Antiguedad: 4 años\n",
            "No. Trabajador: 6767 | Nombre: FERNANDO ROMERO HERRERA | Sueldo: $ 11613.36 | Antiguedad: 2 años\n",
            "No. Trabajador: 5654 | Nombre: PABLO ALONSO GALLEGO | Sueldo: $ 10734.09 | Antiguedad: 2 años\n",
            "No. Trabajador: 4323 | Nombre: JORGE GUTIERREZ MARQUEZ | Sueldo: $ 10715.09 | Antiguedad: 1 años\n",
            "No. Trabajador: 2232 | Nombre: RAMON NAVARRO LEON | Sueldo: $ 11645.475 | Antiguedad: 5 años\n"
          ]
        }
      ]
    }
  ]
}